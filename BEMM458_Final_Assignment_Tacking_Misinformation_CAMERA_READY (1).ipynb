{
  "nbformat": 4,
  "nbformat_minor": 0,
  "metadata": {
    "kernelspec": {
      "display_name": "Python 3",
      "language": "python",
      "name": "python3"
    },
    "language_info": {
      "codemirror_mode": {
        "name": "ipython",
        "version": 3
      },
      "file_extension": ".py",
      "mimetype": "text/x-python",
      "name": "python",
      "nbconvert_exporter": "python",
      "pygments_lexer": "ipython3",
      "version": "3.8.5"
    },
    "colab": {
      "name": "BEMM458 Final Assignment Tacking Misinformation CAMERA READY.ipynb",
      "provenance": []
    }
  },
  "cells": [
    {
      "cell_type": "markdown",
      "metadata": {
        "id": "qDxb44B-vwBz"
      },
      "source": [
        "## BEMM458 Final Assignment"
      ]
    },
    {
      "cell_type": "markdown",
      "metadata": {
        "id": "ksUoAIjavwB3"
      },
      "source": [
        "## You are a data scientist working for the European Union. There is an increasing concern inn  relation to the spread and amplification of misinformation on social media.\n",
        "\n",
        "## General management needs you to conduct an analysis of recent conversations posted on Twitter in relation to spain. You have to identify ongoing misinformation campaigns and profile those users contributing to the spread of misinformation.\n",
        "\n",
        "\n"
      ]
    },
    {
      "cell_type": "code",
      "metadata": {
        "id": "gtUR5PQ1vwB4"
      },
      "source": [
        "import pandas as pd"
      ],
      "execution_count": 1,
      "outputs": []
    },
    {
      "cell_type": "code",
      "metadata": {
        "colab": {
          "base_uri": "https://localhost:8080/",
          "height": 17
        },
        "id": "RmeMyruXvwB5",
        "outputId": "3f043757-790d-44cc-ef56-c8f6294b1c67"
      },
      "source": [
        "from IPython.core.display import display, HTML\n",
        "display(HTML(\"<style>.container { width:100% !important; }</style>\"))"
      ],
      "execution_count": 2,
      "outputs": [
        {
          "output_type": "display_data",
          "data": {
            "text/html": [
              "<style>.container { width:100% !important; }</style>"
            ],
            "text/plain": [
              "<IPython.core.display.HTML object>"
            ]
          },
          "metadata": {}
        }
      ]
    },
    {
      "cell_type": "code",
      "metadata": {
        "colab": {
          "base_uri": "https://localhost:8080/"
        },
        "id": "rC-cIB5HvwB6",
        "outputId": "94b4c9f9-f451-429c-ecbe-9b574fd805ad"
      },
      "source": [
        "pd.set_option('display.max_rows', 120)\n",
        "pd.set_option(\"max_colwidth\", -1)"
      ],
      "execution_count": 58,
      "outputs": [
        {
          "output_type": "stream",
          "name": "stderr",
          "text": [
            "/usr/local/lib/python3.7/dist-packages/ipykernel_launcher.py:2: FutureWarning: Passing a negative integer is deprecated in version 1.0 and will not be supported in future version. Instead, use None to not limit the column width.\n",
            "  \n"
          ]
        }
      ]
    },
    {
      "cell_type": "code",
      "metadata": {
        "id": "pIemO6d3vwB6"
      },
      "source": [
        "pd.set_option('display.float_format', '{:.0f}'.format)"
      ],
      "execution_count": 4,
      "outputs": []
    },
    {
      "cell_type": "code",
      "metadata": {
        "id": "hKfMtQPNvwB7"
      },
      "source": [
        "spainEnglishAll=pd.read_csv('BEMM458FinalAssignment.csv')"
      ],
      "execution_count": 6,
      "outputs": []
    },
    {
      "cell_type": "code",
      "metadata": {
        "id": "RnIicS_owaxx"
      },
      "source": [
        ""
      ],
      "execution_count": null,
      "outputs": []
    },
    {
      "cell_type": "code",
      "metadata": {
        "colab": {
          "base_uri": "https://localhost:8080/"
        },
        "id": "YpT180rvvwB8",
        "outputId": "c89e8f01-74ae-4433-8165-3866840f0167"
      },
      "source": [
        "spainEnglishAll.columns"
      ],
      "execution_count": 7,
      "outputs": [
        {
          "output_type": "execute_result",
          "data": {
            "text/plain": [
              "Index(['Unnamed: 0', 'tweeet.id', 'tweet.text', 'tweet.created_at',\n",
              "       'tweet.author_id', 'tweet.lang', 'public_metrics.retweet_count',\n",
              "       'public_metrics.reply_count', 'public_metrics.like_count'],\n",
              "      dtype='object')"
            ]
          },
          "metadata": {},
          "execution_count": 7
        }
      ]
    },
    {
      "cell_type": "code",
      "metadata": {
        "colab": {
          "base_uri": "https://localhost:8080/",
          "height": 806
        },
        "id": "yrfO-swRvwB8",
        "outputId": "310b586f-a3b7-43a7-e1c4-10558c127990"
      },
      "source": [
        "spainEnglishAll"
      ],
      "execution_count": 8,
      "outputs": [
        {
          "output_type": "execute_result",
          "data": {
            "text/html": [
              "<div>\n",
              "<style scoped>\n",
              "    .dataframe tbody tr th:only-of-type {\n",
              "        vertical-align: middle;\n",
              "    }\n",
              "\n",
              "    .dataframe tbody tr th {\n",
              "        vertical-align: top;\n",
              "    }\n",
              "\n",
              "    .dataframe thead th {\n",
              "        text-align: right;\n",
              "    }\n",
              "</style>\n",
              "<table border=\"1\" class=\"dataframe\">\n",
              "  <thead>\n",
              "    <tr style=\"text-align: right;\">\n",
              "      <th></th>\n",
              "      <th>Unnamed: 0</th>\n",
              "      <th>tweeet.id</th>\n",
              "      <th>tweet.text</th>\n",
              "      <th>tweet.created_at</th>\n",
              "      <th>tweet.author_id</th>\n",
              "      <th>tweet.lang</th>\n",
              "      <th>public_metrics.retweet_count</th>\n",
              "      <th>public_metrics.reply_count</th>\n",
              "      <th>public_metrics.like_count</th>\n",
              "    </tr>\n",
              "  </thead>\n",
              "  <tbody>\n",
              "    <tr>\n",
              "      <th>0</th>\n",
              "      <td>0</td>\n",
              "      <td>1461484086892146692</td>\n",
              "      <td>RT @ESPNFC: EURO 2008 top scorer: Villa ⚽️\\nWo...</td>\n",
              "      <td>2021-11-18 23:58:54+00:00</td>\n",
              "      <td>3239744421</td>\n",
              "      <td>en</td>\n",
              "      <td>1568</td>\n",
              "      <td>0</td>\n",
              "      <td>0</td>\n",
              "    </tr>\n",
              "    <tr>\n",
              "      <th>1</th>\n",
              "      <td>1</td>\n",
              "      <td>1461484079245840390</td>\n",
              "      <td>RT @MrGeepGeep: SOE is over and now is the tim...</td>\n",
              "      <td>2021-11-18 23:58:52+00:00</td>\n",
              "      <td>2312771653</td>\n",
              "      <td>en</td>\n",
              "      <td>38</td>\n",
              "      <td>0</td>\n",
              "      <td>0</td>\n",
              "    </tr>\n",
              "    <tr>\n",
              "      <th>2</th>\n",
              "      <td>2</td>\n",
              "      <td>1461484043187462149</td>\n",
              "      <td>RT @AnittaCrave: \"Envolver\" — by Anitta will d...</td>\n",
              "      <td>2021-11-18 23:58:43+00:00</td>\n",
              "      <td>1296857652677550080</td>\n",
              "      <td>en</td>\n",
              "      <td>90</td>\n",
              "      <td>0</td>\n",
              "      <td>0</td>\n",
              "    </tr>\n",
              "    <tr>\n",
              "      <th>3</th>\n",
              "      <td>3</td>\n",
              "      <td>1461483982105763842</td>\n",
              "      <td>Men jewelry  - Madrid, Spain \\n@GuilleRBRB htt...</td>\n",
              "      <td>2021-11-18 23:58:29+00:00</td>\n",
              "      <td>1071703322166480768</td>\n",
              "      <td>en</td>\n",
              "      <td>0</td>\n",
              "      <td>0</td>\n",
              "      <td>5</td>\n",
              "    </tr>\n",
              "    <tr>\n",
              "      <th>4</th>\n",
              "      <td>4</td>\n",
              "      <td>1461483978658127872</td>\n",
              "      <td>RT @Foreign_Cat: #Turkey &amp;amp; #Spain, partner...</td>\n",
              "      <td>2021-11-18 23:58:28+00:00</td>\n",
              "      <td>1142741725225652224</td>\n",
              "      <td>en</td>\n",
              "      <td>34</td>\n",
              "      <td>0</td>\n",
              "      <td>0</td>\n",
              "    </tr>\n",
              "    <tr>\n",
              "      <th>...</th>\n",
              "      <td>...</td>\n",
              "      <td>...</td>\n",
              "      <td>...</td>\n",
              "      <td>...</td>\n",
              "      <td>...</td>\n",
              "      <td>...</td>\n",
              "      <td>...</td>\n",
              "      <td>...</td>\n",
              "      <td>...</td>\n",
              "    </tr>\n",
              "    <tr>\n",
              "      <th>47545</th>\n",
              "      <td>47545</td>\n",
              "      <td>1461484434209783814</td>\n",
              "      <td>@only1womble @SimonJonesNews @pritipatel Someo...</td>\n",
              "      <td>2021-11-19 00:00:16+00:00</td>\n",
              "      <td>1733373504</td>\n",
              "      <td>en</td>\n",
              "      <td>0</td>\n",
              "      <td>0</td>\n",
              "      <td>0</td>\n",
              "    </tr>\n",
              "    <tr>\n",
              "      <th>47546</th>\n",
              "      <td>47546</td>\n",
              "      <td>1461484401712414722</td>\n",
              "      <td>RT @ancientorigins: A team of #scientists has ...</td>\n",
              "      <td>2021-11-19 00:00:09+00:00</td>\n",
              "      <td>100887413</td>\n",
              "      <td>en</td>\n",
              "      <td>18</td>\n",
              "      <td>0</td>\n",
              "      <td>0</td>\n",
              "    </tr>\n",
              "    <tr>\n",
              "      <th>47547</th>\n",
              "      <td>47547</td>\n",
              "      <td>1461484391255977994</td>\n",
              "      <td>On #Friday Amazing time in #SabatiniGardens #M...</td>\n",
              "      <td>2021-11-19 00:00:06+00:00</td>\n",
              "      <td>995441471938580352</td>\n",
              "      <td>en</td>\n",
              "      <td>0</td>\n",
              "      <td>0</td>\n",
              "      <td>1</td>\n",
              "    </tr>\n",
              "    <tr>\n",
              "      <th>47548</th>\n",
              "      <td>47548</td>\n",
              "      <td>1461484374558490625</td>\n",
              "      <td>RT @THEMAXHILTON: The wait is over !  you have...</td>\n",
              "      <td>2021-11-19 00:00:02+00:00</td>\n",
              "      <td>832015137263452160</td>\n",
              "      <td>en</td>\n",
              "      <td>121</td>\n",
              "      <td>0</td>\n",
              "      <td>0</td>\n",
              "    </tr>\n",
              "    <tr>\n",
              "      <th>47549</th>\n",
              "      <td>47549</td>\n",
              "      <td>1461484366325035009</td>\n",
              "      <td>#Barcelona Nov 19 01:00 Temperature 10C Wind N...</td>\n",
              "      <td>2021-11-19 00:00:00+00:00</td>\n",
              "      <td>258025521</td>\n",
              "      <td>en</td>\n",
              "      <td>0</td>\n",
              "      <td>0</td>\n",
              "      <td>0</td>\n",
              "    </tr>\n",
              "  </tbody>\n",
              "</table>\n",
              "<p>47550 rows × 9 columns</p>\n",
              "</div>"
            ],
            "text/plain": [
              "       Unnamed: 0  ... public_metrics.like_count\n",
              "0               0  ...                         0\n",
              "1               1  ...                         0\n",
              "2               2  ...                         0\n",
              "3               3  ...                         5\n",
              "4               4  ...                         0\n",
              "...           ...  ...                       ...\n",
              "47545       47545  ...                         0\n",
              "47546       47546  ...                         0\n",
              "47547       47547  ...                         1\n",
              "47548       47548  ...                         0\n",
              "47549       47549  ...                         0\n",
              "\n",
              "[47550 rows x 9 columns]"
            ]
          },
          "metadata": {},
          "execution_count": 8
        }
      ]
    },
    {
      "cell_type": "markdown",
      "metadata": {
        "id": "cbtik1CXvwB9"
      },
      "source": [
        "## Question 1. Which twitter conversations have large levels of amplification ? (15 points)\n",
        "### Tip: consider number of retweets, likes, etc as proxies to measure the spread of information on social media"
      ]
    },
    {
      "cell_type": "markdown",
      "metadata": {
        "id": "6MUlscVmvwB-"
      },
      "source": [
        ""
      ]
    },
    {
      "cell_type": "code",
      "metadata": {
        "colab": {
          "base_uri": "https://localhost:8080/",
          "height": 363
        },
        "id": "PGkLlisCvwB-",
        "outputId": "95e301c7-d39c-4350-b235-4db5976fb927"
      },
      "source": [
        "index_amplified = spainEnglishAll['public_metrics.retweet_count'].nlargest(10).index\n",
        "spainEnglishAll.loc[index_amplified,['tweet.text','public_metrics.retweet_count']]\n",
        "# using n_largest sorting for the top 10 amplified tweets and their count\n"
      ],
      "execution_count": 28,
      "outputs": [
        {
          "output_type": "execute_result",
          "data": {
            "text/html": [
              "<div>\n",
              "<style scoped>\n",
              "    .dataframe tbody tr th:only-of-type {\n",
              "        vertical-align: middle;\n",
              "    }\n",
              "\n",
              "    .dataframe tbody tr th {\n",
              "        vertical-align: top;\n",
              "    }\n",
              "\n",
              "    .dataframe thead th {\n",
              "        text-align: right;\n",
              "    }\n",
              "</style>\n",
              "<table border=\"1\" class=\"dataframe\">\n",
              "  <thead>\n",
              "    <tr style=\"text-align: right;\">\n",
              "      <th></th>\n",
              "      <th>tweet.text</th>\n",
              "      <th>public_metrics.retweet_count</th>\n",
              "    </tr>\n",
              "  </thead>\n",
              "  <tbody>\n",
              "    <tr>\n",
              "      <th>23467</th>\n",
              "      <td>RT @NCTsmtown_127: #Johnny’s Photo Diary:Spain\\n\\n#Johntography \\n#NCT #NCT127 #JAEHYUN\\n#Spain #Sevilla https://t.co/pzRbU9G82o</td>\n",
              "      <td>44845</td>\n",
              "    </tr>\n",
              "    <tr>\n",
              "      <th>8820</th>\n",
              "      <td>RT @NCTsmtown_127: #Johnny’s Photo Diary:Spain\\n\\n#Johntography\\n#NCT #NCT127\\n#JAEHYUN #MARK \\n#Spain #Sevilla https://t.co/jPNpBlVUcJ</td>\n",
              "      <td>43945</td>\n",
              "    </tr>\n",
              "    <tr>\n",
              "      <th>23656</th>\n",
              "      <td>RT @NCTsmtown_127: #Johnny’s Photo Diary:Spain\\n\\n#Johntography\\n#NCT #NCT127\\n#JAEHYUN #MARK \\n#Spain #Sevilla https://t.co/jPNpBlVUcJ</td>\n",
              "      <td>43945</td>\n",
              "    </tr>\n",
              "    <tr>\n",
              "      <th>39357</th>\n",
              "      <td>RT @NCTsmtown_127: Spain here we goooooo\\n\\n#NCT #NCT127 #MARK\\n#NCT127inSpain https://t.co/3kuRW5nG1f</td>\n",
              "      <td>35930</td>\n",
              "    </tr>\n",
              "    <tr>\n",
              "      <th>41908</th>\n",
              "      <td>RT @NCTsmtown_127: #Johnny’s Photo Diary:Spain\\n\\n#Johntography\\n#NCT #NCT127 #DOYOUNG \\n#Spain #Sevilla https://t.co/XFbjF6fXt2</td>\n",
              "      <td>34538</td>\n",
              "    </tr>\n",
              "    <tr>\n",
              "      <th>45373</th>\n",
              "      <td>RT @NCTsmtown_127: #Johnny’s Photo Diary:Spain\\n\\n#Johntography\\n#NCT #NCT127 #DOYOUNG \\n#Spain #Sevilla https://t.co/XFbjF6fXt2</td>\n",
              "      <td>34538</td>\n",
              "    </tr>\n",
              "    <tr>\n",
              "      <th>23655</th>\n",
              "      <td>RT @NCTsmtown_127: #Johnny’s Photo Diary:Spain\\n\\n#Johntography\\n#NCT #NCT127 #DOYOUNG \\n#Spain #Sevilla https://t.co/XFbjF6fXt2</td>\n",
              "      <td>34537</td>\n",
              "    </tr>\n",
              "    <tr>\n",
              "      <th>45333</th>\n",
              "      <td>RT @NCTsmtown_127: #Johnny’s Photo Diary:Spain\\n\\n#NCT #NCT127 \\n#Spain #Sevilla https://t.co/2xGKANRyR2</td>\n",
              "      <td>32878</td>\n",
              "    </tr>\n",
              "    <tr>\n",
              "      <th>45374</th>\n",
              "      <td>RT @NCTsmtown_127: #Johnny’s Photo Diary:Spain\\n\\n#Johntography \\n#NCT #NCT127\\n#Spain #Sevilla https://t.co/11xjaXYrMh</td>\n",
              "      <td>32632</td>\n",
              "    </tr>\n",
              "    <tr>\n",
              "      <th>44456</th>\n",
              "      <td>RT @NCTsmtown_127: #Johnny 's Photo Diary:Spain\\n\\n#Johntography \\n#NCT #NCT127 #JAEHYUN\\n#Spain #Sevilla https://t.co/7kFerMPKyq</td>\n",
              "      <td>30490</td>\n",
              "    </tr>\n",
              "  </tbody>\n",
              "</table>\n",
              "</div>"
            ],
            "text/plain": [
              "                                                                                                                                    tweet.text  public_metrics.retweet_count\n",
              "23467  RT @NCTsmtown_127: #Johnny’s Photo Diary:Spain\\n\\n#Johntography \\n#NCT #NCT127 #JAEHYUN\\n#Spain #Sevilla https://t.co/pzRbU9G82o        44845                        \n",
              "8820   RT @NCTsmtown_127: #Johnny’s Photo Diary:Spain\\n\\n#Johntography\\n#NCT #NCT127\\n#JAEHYUN #MARK \\n#Spain #Sevilla https://t.co/jPNpBlVUcJ 43945                        \n",
              "23656  RT @NCTsmtown_127: #Johnny’s Photo Diary:Spain\\n\\n#Johntography\\n#NCT #NCT127\\n#JAEHYUN #MARK \\n#Spain #Sevilla https://t.co/jPNpBlVUcJ 43945                        \n",
              "39357  RT @NCTsmtown_127: Spain here we goooooo\\n\\n#NCT #NCT127 #MARK\\n#NCT127inSpain https://t.co/3kuRW5nG1f                                  35930                        \n",
              "41908  RT @NCTsmtown_127: #Johnny’s Photo Diary:Spain\\n\\n#Johntography\\n#NCT #NCT127 #DOYOUNG \\n#Spain #Sevilla https://t.co/XFbjF6fXt2        34538                        \n",
              "45373  RT @NCTsmtown_127: #Johnny’s Photo Diary:Spain\\n\\n#Johntography\\n#NCT #NCT127 #DOYOUNG \\n#Spain #Sevilla https://t.co/XFbjF6fXt2        34538                        \n",
              "23655  RT @NCTsmtown_127: #Johnny’s Photo Diary:Spain\\n\\n#Johntography\\n#NCT #NCT127 #DOYOUNG \\n#Spain #Sevilla https://t.co/XFbjF6fXt2        34537                        \n",
              "45333  RT @NCTsmtown_127: #Johnny’s Photo Diary:Spain\\n\\n#NCT #NCT127 \\n#Spain #Sevilla https://t.co/2xGKANRyR2                                32878                        \n",
              "45374  RT @NCTsmtown_127: #Johnny’s Photo Diary:Spain\\n\\n#Johntography \\n#NCT #NCT127\\n#Spain #Sevilla https://t.co/11xjaXYrMh                 32632                        \n",
              "44456  RT @NCTsmtown_127: #Johnny 's Photo Diary:Spain\\n\\n#Johntography \\n#NCT #NCT127 #JAEHYUN\\n#Spain #Sevilla https://t.co/7kFerMPKyq       30490                        "
            ]
          },
          "metadata": {},
          "execution_count": 28
        }
      ]
    },
    {
      "cell_type": "markdown",
      "metadata": {
        "id": "qE86e0dQvwB-"
      },
      "source": [
        "## Question 2. Analysis of highly amplified conversations (15 points)\n",
        "\n",
        "### Please describe  5 highly amplified conversations which are trying to polarize or misinform.\n",
        "\n",
        "## Tip: given a tweet.id it is possible to have a detailed look at twitter by appending this id to the url: https://twitter.com/anyuser/status/\n",
        "\n",
        "\n",
        "### For instance given the tweet.id: 1461577564850319362 you can inspect its content by having a look at: https://twitter.com/anyuser/status/1461577564850319362\n",
        "\n"
      ]
    },
    {
      "cell_type": "code",
      "metadata": {
        "colab": {
          "base_uri": "https://localhost:8080/",
          "height": 206
        },
        "id": "cdtLp_rdvwB-",
        "outputId": "a3a0cf3a-37cf-4ab1-92f7-c84235c485f3"
      },
      "source": [
        "index_amplified = spainEnglishAll['public_metrics.retweet_count'].nlargest(5).index\n",
        "spainEnglishAll.loc[index_amplified,['tweet.text','public_metrics.retweet_count','tweeet.id']]\n",
        "# using n_largest sorting for the top 5 amplified tweets again"
      ],
      "execution_count": 60,
      "outputs": [
        {
          "output_type": "execute_result",
          "data": {
            "text/html": [
              "<div>\n",
              "<style scoped>\n",
              "    .dataframe tbody tr th:only-of-type {\n",
              "        vertical-align: middle;\n",
              "    }\n",
              "\n",
              "    .dataframe tbody tr th {\n",
              "        vertical-align: top;\n",
              "    }\n",
              "\n",
              "    .dataframe thead th {\n",
              "        text-align: right;\n",
              "    }\n",
              "</style>\n",
              "<table border=\"1\" class=\"dataframe\">\n",
              "  <thead>\n",
              "    <tr style=\"text-align: right;\">\n",
              "      <th></th>\n",
              "      <th>tweet.text</th>\n",
              "      <th>public_metrics.retweet_count</th>\n",
              "      <th>tweeet.id</th>\n",
              "    </tr>\n",
              "  </thead>\n",
              "  <tbody>\n",
              "    <tr>\n",
              "      <th>23467</th>\n",
              "      <td>RT @NCTsmtown_127: #Johnny’s Photo Diary:Spain\\n\\n#Johntography \\n#NCT #NCT127 #JAEHYUN\\n#Spain #Sevilla https://t.co/pzRbU9G82o</td>\n",
              "      <td>44845</td>\n",
              "      <td>1461162679809155076</td>\n",
              "    </tr>\n",
              "    <tr>\n",
              "      <th>8820</th>\n",
              "      <td>RT @NCTsmtown_127: #Johnny’s Photo Diary:Spain\\n\\n#Johntography\\n#NCT #NCT127\\n#JAEHYUN #MARK \\n#Spain #Sevilla https://t.co/jPNpBlVUcJ</td>\n",
              "      <td>43945</td>\n",
              "      <td>1461371211343020033</td>\n",
              "    </tr>\n",
              "    <tr>\n",
              "      <th>23656</th>\n",
              "      <td>RT @NCTsmtown_127: #Johnny’s Photo Diary:Spain\\n\\n#Johntography\\n#NCT #NCT127\\n#JAEHYUN #MARK \\n#Spain #Sevilla https://t.co/jPNpBlVUcJ</td>\n",
              "      <td>43945</td>\n",
              "      <td>1461157780664901633</td>\n",
              "    </tr>\n",
              "    <tr>\n",
              "      <th>39357</th>\n",
              "      <td>RT @NCTsmtown_127: Spain here we goooooo\\n\\n#NCT #NCT127 #MARK\\n#NCT127inSpain https://t.co/3kuRW5nG1f</td>\n",
              "      <td>35930</td>\n",
              "      <td>1461649200882405377</td>\n",
              "    </tr>\n",
              "    <tr>\n",
              "      <th>41908</th>\n",
              "      <td>RT @NCTsmtown_127: #Johnny’s Photo Diary:Spain\\n\\n#Johntography\\n#NCT #NCT127 #DOYOUNG \\n#Spain #Sevilla https://t.co/XFbjF6fXt2</td>\n",
              "      <td>34538</td>\n",
              "      <td>1461613145219239944</td>\n",
              "    </tr>\n",
              "  </tbody>\n",
              "</table>\n",
              "</div>"
            ],
            "text/plain": [
              "                                                                                                                                    tweet.text  ...            tweeet.id\n",
              "23467  RT @NCTsmtown_127: #Johnny’s Photo Diary:Spain\\n\\n#Johntography \\n#NCT #NCT127 #JAEHYUN\\n#Spain #Sevilla https://t.co/pzRbU9G82o         ...  1461162679809155076\n",
              "8820   RT @NCTsmtown_127: #Johnny’s Photo Diary:Spain\\n\\n#Johntography\\n#NCT #NCT127\\n#JAEHYUN #MARK \\n#Spain #Sevilla https://t.co/jPNpBlVUcJ  ...  1461371211343020033\n",
              "23656  RT @NCTsmtown_127: #Johnny’s Photo Diary:Spain\\n\\n#Johntography\\n#NCT #NCT127\\n#JAEHYUN #MARK \\n#Spain #Sevilla https://t.co/jPNpBlVUcJ  ...  1461157780664901633\n",
              "39357  RT @NCTsmtown_127: Spain here we goooooo\\n\\n#NCT #NCT127 #MARK\\n#NCT127inSpain https://t.co/3kuRW5nG1f                                   ...  1461649200882405377\n",
              "41908  RT @NCTsmtown_127: #Johnny’s Photo Diary:Spain\\n\\n#Johntography\\n#NCT #NCT127 #DOYOUNG \\n#Spain #Sevilla https://t.co/XFbjF6fXt2         ...  1461613145219239944\n",
              "\n",
              "[5 rows x 3 columns]"
            ]
          },
          "metadata": {},
          "execution_count": 60
        }
      ]
    },
    {
      "cell_type": "markdown",
      "metadata": {
        "id": "2RtLaWHL5LlL"
      },
      "source": [
        "### *The highest amplified tweets were not spreading misinformatoin when analyzed through the tweet id and  usernames. They are tweeted from a verified handle and is concerning promotion for a musical event taking place at a large scale by the popular singer group BTS.*"
      ]
    },
    {
      "cell_type": "markdown",
      "metadata": {
        "id": "LwoKtkmQvwB_"
      },
      "source": [
        "## Question 3. Compute the z-score of the column \"public_metrics.retweet_count\" (15 points)\n",
        "## tip: refer to the definition of Z-score at\" https://www.statisticshowto.com/probability-and-statistics/z-score/"
      ]
    },
    {
      "cell_type": "code",
      "metadata": {
        "id": "qadLxlH53q0m"
      },
      "source": [
        "from scipy.stats import zscore\n",
        "#importing the scipy instance of the function"
      ],
      "execution_count": 34,
      "outputs": []
    },
    {
      "cell_type": "code",
      "metadata": {
        "id": "2VbSfD8u5zPR"
      },
      "source": [
        "import numpy as np"
      ],
      "execution_count": 40,
      "outputs": []
    },
    {
      "cell_type": "code",
      "metadata": {
        "colab": {
          "base_uri": "https://localhost:8080/"
        },
        "id": "7graKftpvwB_",
        "outputId": "df93e12f-9b82-4ad6-8053-1a9b8198f54b"
      },
      "source": [
        "z_score = zscore(np.array(spainEnglishAll['public_metrics.retweet_count'].astype(float)),nan_policy='omit')\n",
        "z_score\n",
        "# average distribution ocurrence "
      ],
      "execution_count": 53,
      "outputs": [
        {
          "output_type": "execute_result",
          "data": {
            "text/plain": [
              "array([ 1.39061922, -0.20398594, -0.1497902 , ..., -0.24359051,\n",
              "       -0.11748121, -0.24359051])"
            ]
          },
          "metadata": {},
          "execution_count": 53
        }
      ]
    },
    {
      "cell_type": "code",
      "metadata": {
        "colab": {
          "base_uri": "https://localhost:8080/"
        },
        "id": "OXsFz0AlvwB_",
        "outputId": "5982ce5b-b50b-4878-e11c-c2e52e4bb947"
      },
      "source": [
        "z_score.mean()"
      ],
      "execution_count": 51,
      "outputs": [
        {
          "output_type": "execute_result",
          "data": {
            "text/plain": [
              "nan"
            ]
          },
          "metadata": {},
          "execution_count": 51
        }
      ]
    },
    {
      "cell_type": "markdown",
      "metadata": {
        "id": "uCK-NVk-vwCA"
      },
      "source": [
        "## Question 4. Filter conversations with a z-score larger than 10. (15 points)"
      ]
    },
    {
      "cell_type": "code",
      "metadata": {
        "colab": {
          "base_uri": "https://localhost:8080/",
          "height": 1000
        },
        "id": "B8rPnVBJvwCA",
        "outputId": "6a62ff08-1432-4a54-a69c-36915ffe4b7b"
      },
      "source": [
        "spainEnglishAll['z_score'] = z_score \n",
        "# filtering using boolean indexing\n",
        "spainEnglishAll[spainEnglishAll['z_score'] >= 10][['tweet.text','tweeet.id']]"
      ],
      "execution_count": 61,
      "outputs": [
        {
          "output_type": "execute_result",
          "data": {
            "text/html": [
              "<div>\n",
              "<style scoped>\n",
              "    .dataframe tbody tr th:only-of-type {\n",
              "        vertical-align: middle;\n",
              "    }\n",
              "\n",
              "    .dataframe tbody tr th {\n",
              "        vertical-align: top;\n",
              "    }\n",
              "\n",
              "    .dataframe thead th {\n",
              "        text-align: right;\n",
              "    }\n",
              "</style>\n",
              "<table border=\"1\" class=\"dataframe\">\n",
              "  <thead>\n",
              "    <tr style=\"text-align: right;\">\n",
              "      <th></th>\n",
              "      <th>tweet.text</th>\n",
              "      <th>tweeet.id</th>\n",
              "    </tr>\n",
              "  </thead>\n",
              "  <tbody>\n",
              "    <tr>\n",
              "      <th>859</th>\n",
              "      <td>RT @viquirepublica: 📌This is the real problem in Catalonia .... Spain is a Fascist State \\nHow long are you going to shut up Europe? https:/…</td>\n",
              "      <td>1461469510586839047</td>\n",
              "    </tr>\n",
              "    <tr>\n",
              "      <th>2252</th>\n",
              "      <td>RT @MesutOzil1088: I grew up as a @Fenerbahce fan as a kid in Germany - every German-Turkish person supports a Turkish team when they grow…</td>\n",
              "      <td>1461451876000489474</td>\n",
              "    </tr>\n",
              "    <tr>\n",
              "      <th>3009</th>\n",
              "      <td>RT @viquirepublica: 📌This is the real problem in Catalonia .... Spain is a Fascist State \\nHow long are you going to shut up Europe? https:/…</td>\n",
              "      <td>1461442074184720387</td>\n",
              "    </tr>\n",
              "    <tr>\n",
              "      <th>4527</th>\n",
              "      <td>RT @viquirepublica: 📌This is the real problem in Catalonia .... Spain is a Fascist State \\nHow long are you going to shut up Europe? https:/…</td>\n",
              "      <td>1461421081105948679</td>\n",
              "    </tr>\n",
              "    <tr>\n",
              "      <th>4585</th>\n",
              "      <td>RT @viquirepublica: 📌This is the real problem in Catalonia .... Spain is a Fascist State \\nHow long are you going to shut up Europe? https:/…</td>\n",
              "      <td>1461420287510159373</td>\n",
              "    </tr>\n",
              "    <tr>\n",
              "      <th>5082</th>\n",
              "      <td>RT @viquirepublica: 📌This is the real problem in Catalonia .... Spain is a Fascist State \\nHow long are you going to shut up Europe? https:/…</td>\n",
              "      <td>1461415007846117376</td>\n",
              "    </tr>\n",
              "    <tr>\n",
              "      <th>5403</th>\n",
              "      <td>RT @viquirepublica: 📌This is the real problem in Catalonia .... Spain is a Fascist State \\nHow long are you going to shut up Europe? https:/…</td>\n",
              "      <td>1461413368959492108</td>\n",
              "    </tr>\n",
              "    <tr>\n",
              "      <th>5484</th>\n",
              "      <td>RT @viquirepublica: 📌This is the real problem in Catalonia .... Spain is a Fascist State \\nHow long are you going to shut up Europe? https:/…</td>\n",
              "      <td>1461412419377537025</td>\n",
              "    </tr>\n",
              "    <tr>\n",
              "      <th>5530</th>\n",
              "      <td>RT @viquirepublica: 📌This is the real problem in Catalonia .... Spain is a Fascist State \\nHow long are you going to shut up Europe? https:/…</td>\n",
              "      <td>1461411825971515395</td>\n",
              "    </tr>\n",
              "    <tr>\n",
              "      <th>6012</th>\n",
              "      <td>RT @viquirepublica: 📌This is the real problem in Catalonia .... Spain is a Fascist State \\nHow long are you going to shut up Europe? https:/…</td>\n",
              "      <td>1461405606540103682</td>\n",
              "    </tr>\n",
              "    <tr>\n",
              "      <th>6960</th>\n",
              "      <td>RT @TheeAzanian: Normalize posting these poor parts of Europe like they do with Africa. Cañada Real (just outside of Madrid), Spain. https:…</td>\n",
              "      <td>1461393296190840837</td>\n",
              "    </tr>\n",
              "    <tr>\n",
              "      <th>6999</th>\n",
              "      <td>RT @viquirepublica: 📌This is the real problem in Catalonia .... Spain is a Fascist State \\nHow long are you going to shut up Europe? https:/…</td>\n",
              "      <td>1461392799459385347</td>\n",
              "    </tr>\n",
              "    <tr>\n",
              "      <th>8820</th>\n",
              "      <td>RT @NCTsmtown_127: #Johnny’s Photo Diary:Spain\\n\\n#Johntography\\n#NCT #NCT127\\n#JAEHYUN #MARK \\n#Spain #Sevilla https://t.co/jPNpBlVUcJ</td>\n",
              "      <td>1461371211343020033</td>\n",
              "    </tr>\n",
              "    <tr>\n",
              "      <th>9806</th>\n",
              "      <td>RT @NCTsmtown_127: #Johnny's Photo Diary:Spain\\n\\n#Johntography \\n#NCT #NCT127 #TAEYONG \\n#Spain #Sevilla https://t.co/8CJuEZDXER</td>\n",
              "      <td>1461359523298377745</td>\n",
              "    </tr>\n",
              "    <tr>\n",
              "      <th>10645</th>\n",
              "      <td>RT @viquirepublica: 📌This is the real problem in Catalonia .... Spain is a Fascist State \\nHow long are you going to shut up Europe? https:/…</td>\n",
              "      <td>1461349756005806089</td>\n",
              "    </tr>\n",
              "    <tr>\n",
              "      <th>10855</th>\n",
              "      <td>RT @viquirepublica: 📌This is the real problem in Catalonia .... Spain is a Fascist State \\nHow long are you going to shut up Europe? https:/…</td>\n",
              "      <td>1461347421116502019</td>\n",
              "    </tr>\n",
              "    <tr>\n",
              "      <th>12779</th>\n",
              "      <td>RT @NCTsmtown_127: #Johnny's Photo Diary:Spain\\n\\n#Johntography \\n#NCT #NCT127 #TAEYONG \\n#Spain #Sevilla https://t.co/8CJuEZDXER</td>\n",
              "      <td>1461327131057680386</td>\n",
              "    </tr>\n",
              "    <tr>\n",
              "      <th>14561</th>\n",
              "      <td>RT @viquirepublica: 📌This is the real problem in Catalonia .... Spain is a Fascist State \\nHow long are you going to shut up Europe? https:/…</td>\n",
              "      <td>1461307600562266117</td>\n",
              "    </tr>\n",
              "    <tr>\n",
              "      <th>15812</th>\n",
              "      <td>RT @viquirepublica: 📌This is the real problem in Catalonia .... Spain is a Fascist State \\nHow long are you going to shut up Europe? https:/…</td>\n",
              "      <td>1461293000001208324</td>\n",
              "    </tr>\n",
              "    <tr>\n",
              "      <th>15874</th>\n",
              "      <td>RT @viquirepublica: 📌This is the real problem in Catalonia .... Spain is a Fascist State \\nHow long are you going to shut up Europe? https:/…</td>\n",
              "      <td>1461292250927972353</td>\n",
              "    </tr>\n",
              "    <tr>\n",
              "      <th>16547</th>\n",
              "      <td>RT @viquirepublica: 📌This is the real problem in Catalonia .... Spain is a Fascist State \\nHow long are you going to shut up Europe? https:/…</td>\n",
              "      <td>1461283995266830338</td>\n",
              "    </tr>\n",
              "    <tr>\n",
              "      <th>18817</th>\n",
              "      <td>RT @viquirepublica: 📌This is the real problem in Catalonia .... Spain is a Fascist State \\nHow long are you going to shut up Europe? https:/…</td>\n",
              "      <td>1461253366483402754</td>\n",
              "    </tr>\n",
              "    <tr>\n",
              "      <th>18871</th>\n",
              "      <td>RT @viquirepublica: 📌This is the real problem in Catalonia .... Spain is a Fascist State \\nHow long are you going to shut up Europe? https:/…</td>\n",
              "      <td>1461252721122721793</td>\n",
              "    </tr>\n",
              "    <tr>\n",
              "      <th>18896</th>\n",
              "      <td>RT @viquirepublica: 📌This is the real problem in Catalonia .... Spain is a Fascist State \\nHow long are you going to shut up Europe? https:/…</td>\n",
              "      <td>1461252366175453184</td>\n",
              "    </tr>\n",
              "    <tr>\n",
              "      <th>18905</th>\n",
              "      <td>RT @viquirepublica: 📌This is the real problem in Catalonia .... Spain is a Fascist State \\nHow long are you going to shut up Europe? https:/…</td>\n",
              "      <td>1461252203105206277</td>\n",
              "    </tr>\n",
              "    <tr>\n",
              "      <th>23267</th>\n",
              "      <td>RT @bubbaprog: Here is how the Nicki Minaj story was covered on CNC3 Television in Port of Spain, Trinidad. I assure you this is worth all…</td>\n",
              "      <td>1461168528757829633</td>\n",
              "    </tr>\n",
              "    <tr>\n",
              "      <th>23311</th>\n",
              "      <td>RT @NCTsmtown_127: #Johnny's Photo Diary:Spain\\n\\n#Johntography \\n#NCT #NCT127 #TAEYONG \\n#Spain #Sevilla https://t.co/8CJuEZDXER</td>\n",
              "      <td>1461167495809617921</td>\n",
              "    </tr>\n",
              "    <tr>\n",
              "      <th>23461</th>\n",
              "      <td>RT @NCTsmtown_127: Amazing time in SPAIN🇪🇸\\nGracias!!\\n\\n#NCT #NCT127 #JAEHYUN\\n#MTVEMA @mtv @mtvema https://t.co/GleI9Lx9wC</td>\n",
              "      <td>1461162923057827840</td>\n",
              "    </tr>\n",
              "    <tr>\n",
              "      <th>23465</th>\n",
              "      <td>RT @NCTsmtown_127: #Johnny 's Photo Diary:Spain\\n\\n#Johntography \\n#NCT #NCT127 #JAEHYUN\\n#Spain #Sevilla https://t.co/7kFerMPKyq</td>\n",
              "      <td>1461162702307426312</td>\n",
              "    </tr>\n",
              "    <tr>\n",
              "      <th>23467</th>\n",
              "      <td>RT @NCTsmtown_127: #Johnny’s Photo Diary:Spain\\n\\n#Johntography \\n#NCT #NCT127 #JAEHYUN\\n#Spain #Sevilla https://t.co/pzRbU9G82o</td>\n",
              "      <td>1461162679809155076</td>\n",
              "    </tr>\n",
              "    <tr>\n",
              "      <th>23655</th>\n",
              "      <td>RT @NCTsmtown_127: #Johnny’s Photo Diary:Spain\\n\\n#Johntography\\n#NCT #NCT127 #DOYOUNG \\n#Spain #Sevilla https://t.co/XFbjF6fXt2</td>\n",
              "      <td>1461157789397438464</td>\n",
              "    </tr>\n",
              "    <tr>\n",
              "      <th>23656</th>\n",
              "      <td>RT @NCTsmtown_127: #Johnny’s Photo Diary:Spain\\n\\n#Johntography\\n#NCT #NCT127\\n#JAEHYUN #MARK \\n#Spain #Sevilla https://t.co/jPNpBlVUcJ</td>\n",
              "      <td>1461157780664901633</td>\n",
              "    </tr>\n",
              "    <tr>\n",
              "      <th>23658</th>\n",
              "      <td>RT @NCTsmtown_127: #Johnny’s Photo Diary:Spain\\n\\n#Johntography \\n#NCT #NCT127 #DOYOUNG \\n#Spain #Sevilla https://t.co/k6s9q2YMw7</td>\n",
              "      <td>1461157760607739909</td>\n",
              "    </tr>\n",
              "    <tr>\n",
              "      <th>29595</th>\n",
              "      <td>RT @viquirepublica: 📌This is the real problem in Catalonia .... Spain is a Fascist State \\nHow long are you going to shut up Europe? https:/…</td>\n",
              "      <td>1461776690099728385</td>\n",
              "    </tr>\n",
              "    <tr>\n",
              "      <th>30531</th>\n",
              "      <td>RT @viquirepublica: 📌This is the real problem in Catalonia .... Spain is a Fascist State \\nHow long are you going to shut up Europe? https:/…</td>\n",
              "      <td>1461764692653887496</td>\n",
              "    </tr>\n",
              "    <tr>\n",
              "      <th>32104</th>\n",
              "      <td>RT @viquirepublica: 📌This is the real problem in Catalonia .... Spain is a Fascist State \\nHow long are you going to shut up Europe? https:/…</td>\n",
              "      <td>1461744173653139459</td>\n",
              "    </tr>\n",
              "    <tr>\n",
              "      <th>32155</th>\n",
              "      <td>RT @viquirepublica: 📌This is the real problem in Catalonia .... Spain is a Fascist State \\nHow long are you going to shut up Europe? https:/…</td>\n",
              "      <td>1461743601382268936</td>\n",
              "    </tr>\n",
              "    <tr>\n",
              "      <th>32963</th>\n",
              "      <td>RT @viquirepublica: 📌This is the real problem in Catalonia .... Spain is a Fascist State \\nHow long are you going to shut up Europe? https:/…</td>\n",
              "      <td>1461733446355669006</td>\n",
              "    </tr>\n",
              "    <tr>\n",
              "      <th>34370</th>\n",
              "      <td>RT @AfricanArchives: African moors, who conquered Spain and ruled it for 700 years, were responsible for bringing Europe out of the dark ag…</td>\n",
              "      <td>1461716582602657792</td>\n",
              "    </tr>\n",
              "    <tr>\n",
              "      <th>39357</th>\n",
              "      <td>RT @NCTsmtown_127: Spain here we goooooo\\n\\n#NCT #NCT127 #MARK\\n#NCT127inSpain https://t.co/3kuRW5nG1f</td>\n",
              "      <td>1461649200882405377</td>\n",
              "    </tr>\n",
              "    <tr>\n",
              "      <th>40063</th>\n",
              "      <td>RT @NCTsmtown_127: #Johnny 's Photo Diary:Spain\\n\\n#Johntography \\n#NCT #NCT127 #TAEIL \\n#Spain #Sevilla https://t.co/P2eRGildIN</td>\n",
              "      <td>1461639063329550344</td>\n",
              "    </tr>\n",
              "    <tr>\n",
              "      <th>40431</th>\n",
              "      <td>RT @viquirepublica: 📌This is the real problem in Catalonia .... Spain is a Fascist State \\nHow long are you going to shut up Europe? https:/…</td>\n",
              "      <td>1461634086292840448</td>\n",
              "    </tr>\n",
              "    <tr>\n",
              "      <th>40612</th>\n",
              "      <td>RT @viquirepublica: 📌This is the real problem in Catalonia .... Spain is a Fascist State \\nHow long are you going to shut up Europe? https:/…</td>\n",
              "      <td>1461631578107482112</td>\n",
              "    </tr>\n",
              "    <tr>\n",
              "      <th>41506</th>\n",
              "      <td>RT @viquirepublica: 📌This is the real problem in Catalonia .... Spain is a Fascist State \\nHow long are you going to shut up Europe? https:/…</td>\n",
              "      <td>1461619083162664963</td>\n",
              "    </tr>\n",
              "    <tr>\n",
              "      <th>41830</th>\n",
              "      <td>RT @NCTsmtown_127: #Johnny 's Photo Diary:Spain\\n\\n#Johntography \\n#NCT #NCT127 #DOYOUNG \\n#Spain #Sevilla https://t.co/sC4u82eGYQ</td>\n",
              "      <td>1461614169296306178</td>\n",
              "    </tr>\n",
              "    <tr>\n",
              "      <th>41844</th>\n",
              "      <td>RT @viquirepublica: 📌This is the real problem in Catalonia .... Spain is a Fascist State \\nHow long are you going to shut up Europe? https:/…</td>\n",
              "      <td>1461613986038919171</td>\n",
              "    </tr>\n",
              "    <tr>\n",
              "      <th>41908</th>\n",
              "      <td>RT @NCTsmtown_127: #Johnny’s Photo Diary:Spain\\n\\n#Johntography\\n#NCT #NCT127 #DOYOUNG \\n#Spain #Sevilla https://t.co/XFbjF6fXt2</td>\n",
              "      <td>1461613145219239944</td>\n",
              "    </tr>\n",
              "    <tr>\n",
              "      <th>41984</th>\n",
              "      <td>RT @TheeAzanian: Normalize posting these poor parts of Europe like they do with Africa. Cañada Real (just outside of Madrid), Spain. https:…</td>\n",
              "      <td>1461611790907809795</td>\n",
              "    </tr>\n",
              "    <tr>\n",
              "      <th>42229</th>\n",
              "      <td>RT @viquirepublica: 📌This is the real problem in Catalonia .... Spain is a Fascist State \\nHow long are you going to shut up Europe? https:/…</td>\n",
              "      <td>1461608131411255297</td>\n",
              "    </tr>\n",
              "    <tr>\n",
              "      <th>42346</th>\n",
              "      <td>RT @viquirepublica: 📌This is the real problem in Catalonia .... Spain is a Fascist State \\nHow long are you going to shut up Europe? https:/…</td>\n",
              "      <td>1461606317567754240</td>\n",
              "    </tr>\n",
              "    <tr>\n",
              "      <th>43940</th>\n",
              "      <td>RT @LAPXURADELBUIO: what is happening in spain - a thread:</td>\n",
              "      <td>1461577564850319362</td>\n",
              "    </tr>\n",
              "    <tr>\n",
              "      <th>44456</th>\n",
              "      <td>RT @NCTsmtown_127: #Johnny 's Photo Diary:Spain\\n\\n#Johntography \\n#NCT #NCT127 #JAEHYUN\\n#Spain #Sevilla https://t.co/7kFerMPKyq</td>\n",
              "      <td>1461565440879206401</td>\n",
              "    </tr>\n",
              "    <tr>\n",
              "      <th>45332</th>\n",
              "      <td>RT @NCTsmtown_127: #Johnny’s Photo Diary:Spain\\n📸 by #DOYOUNG \\n\\n#NCT #NCT127\\n#Spain #Sevilla https://t.co/0Vn0A4EPd4</td>\n",
              "      <td>1461539163207995397</td>\n",
              "    </tr>\n",
              "    <tr>\n",
              "      <th>45333</th>\n",
              "      <td>RT @NCTsmtown_127: #Johnny’s Photo Diary:Spain\\n\\n#NCT #NCT127 \\n#Spain #Sevilla https://t.co/2xGKANRyR2</td>\n",
              "      <td>1461539133520695297</td>\n",
              "    </tr>\n",
              "    <tr>\n",
              "      <th>45334</th>\n",
              "      <td>RT @NCTsmtown_127: #Johnny 's Photo Diary:Spain\\n\\n#NCT #NCT127\\n#Spain #Sevilla https://t.co/HDFzIEXW0F</td>\n",
              "      <td>1461539103741149186</td>\n",
              "    </tr>\n",
              "    <tr>\n",
              "      <th>45335</th>\n",
              "      <td>RT @NCTsmtown_127: #Johnny's Photo Diary:Spain\\n\\n#NCT #NCT127\\n#Spain #Sevilla https://t.co/dfeRxHujtd</td>\n",
              "      <td>1461539081725251585</td>\n",
              "    </tr>\n",
              "    <tr>\n",
              "      <th>45336</th>\n",
              "      <td>RT @NCTsmtown_127: #Johnny 's Photo Diary:Spain\\n\\n#NCT #NCT127\\n#Spain #Sevilla https://t.co/UAqpnZa6Wt</td>\n",
              "      <td>1461539044974731265</td>\n",
              "    </tr>\n",
              "    <tr>\n",
              "      <th>45337</th>\n",
              "      <td>RT @NCTsmtown_127: #Johnny 's Photo Diary:Spain\\n\\n#NCT #NCT127\\n#Spain #Sevilla https://t.co/ohGvcNwi3Q</td>\n",
              "      <td>1461539030298886147</td>\n",
              "    </tr>\n",
              "    <tr>\n",
              "      <th>45373</th>\n",
              "      <td>RT @NCTsmtown_127: #Johnny’s Photo Diary:Spain\\n\\n#Johntography\\n#NCT #NCT127 #DOYOUNG \\n#Spain #Sevilla https://t.co/XFbjF6fXt2</td>\n",
              "      <td>1461537918900600843</td>\n",
              "    </tr>\n",
              "    <tr>\n",
              "      <th>45374</th>\n",
              "      <td>RT @NCTsmtown_127: #Johnny’s Photo Diary:Spain\\n\\n#Johntography \\n#NCT #NCT127\\n#Spain #Sevilla https://t.co/11xjaXYrMh</td>\n",
              "      <td>1461537902106537991</td>\n",
              "    </tr>\n",
              "    <tr>\n",
              "      <th>45375</th>\n",
              "      <td>RT @NCTsmtown_127: #Johnny’s Photo Diary:Spain\\n\\n#Johntography \\n#NCT #NCT127 #DOYOUNG \\n#Spain #Sevilla https://t.co/k6s9q2YMw7</td>\n",
              "      <td>1461537878991781892</td>\n",
              "    </tr>\n",
              "    <tr>\n",
              "      <th>45378</th>\n",
              "      <td>RT @NCTsmtown_127: #Johnny 's Photo Diary:Spain\\n\\n#Johntography \\n#NCT #NCT127 #DOYOUNG \\n#Spain #Sevilla https://t.co/sC4u82eGYQ</td>\n",
              "      <td>1461537845516984321</td>\n",
              "    </tr>\n",
              "  </tbody>\n",
              "</table>\n",
              "</div>"
            ],
            "text/plain": [
              "                                                                                                                                          tweet.text            tweeet.id\n",
              "859    RT @viquirepublica: 📌This is the real problem in Catalonia .... Spain is a Fascist State \\nHow long are you going to shut up Europe? https:/…  1461469510586839047\n",
              "2252   RT @MesutOzil1088: I grew up as a @Fenerbahce fan as a kid in Germany - every German-Turkish person supports a Turkish team when they grow…    1461451876000489474\n",
              "3009   RT @viquirepublica: 📌This is the real problem in Catalonia .... Spain is a Fascist State \\nHow long are you going to shut up Europe? https:/…  1461442074184720387\n",
              "4527   RT @viquirepublica: 📌This is the real problem in Catalonia .... Spain is a Fascist State \\nHow long are you going to shut up Europe? https:/…  1461421081105948679\n",
              "4585   RT @viquirepublica: 📌This is the real problem in Catalonia .... Spain is a Fascist State \\nHow long are you going to shut up Europe? https:/…  1461420287510159373\n",
              "5082   RT @viquirepublica: 📌This is the real problem in Catalonia .... Spain is a Fascist State \\nHow long are you going to shut up Europe? https:/…  1461415007846117376\n",
              "5403   RT @viquirepublica: 📌This is the real problem in Catalonia .... Spain is a Fascist State \\nHow long are you going to shut up Europe? https:/…  1461413368959492108\n",
              "5484   RT @viquirepublica: 📌This is the real problem in Catalonia .... Spain is a Fascist State \\nHow long are you going to shut up Europe? https:/…  1461412419377537025\n",
              "5530   RT @viquirepublica: 📌This is the real problem in Catalonia .... Spain is a Fascist State \\nHow long are you going to shut up Europe? https:/…  1461411825971515395\n",
              "6012   RT @viquirepublica: 📌This is the real problem in Catalonia .... Spain is a Fascist State \\nHow long are you going to shut up Europe? https:/…  1461405606540103682\n",
              "6960   RT @TheeAzanian: Normalize posting these poor parts of Europe like they do with Africa. Cañada Real (just outside of Madrid), Spain. https:…   1461393296190840837\n",
              "6999   RT @viquirepublica: 📌This is the real problem in Catalonia .... Spain is a Fascist State \\nHow long are you going to shut up Europe? https:/…  1461392799459385347\n",
              "8820   RT @NCTsmtown_127: #Johnny’s Photo Diary:Spain\\n\\n#Johntography\\n#NCT #NCT127\\n#JAEHYUN #MARK \\n#Spain #Sevilla https://t.co/jPNpBlVUcJ        1461371211343020033\n",
              "9806   RT @NCTsmtown_127: #Johnny's Photo Diary:Spain\\n\\n#Johntography \\n#NCT #NCT127 #TAEYONG \\n#Spain #Sevilla https://t.co/8CJuEZDXER              1461359523298377745\n",
              "10645  RT @viquirepublica: 📌This is the real problem in Catalonia .... Spain is a Fascist State \\nHow long are you going to shut up Europe? https:/…  1461349756005806089\n",
              "10855  RT @viquirepublica: 📌This is the real problem in Catalonia .... Spain is a Fascist State \\nHow long are you going to shut up Europe? https:/…  1461347421116502019\n",
              "12779  RT @NCTsmtown_127: #Johnny's Photo Diary:Spain\\n\\n#Johntography \\n#NCT #NCT127 #TAEYONG \\n#Spain #Sevilla https://t.co/8CJuEZDXER              1461327131057680386\n",
              "14561  RT @viquirepublica: 📌This is the real problem in Catalonia .... Spain is a Fascist State \\nHow long are you going to shut up Europe? https:/…  1461307600562266117\n",
              "15812  RT @viquirepublica: 📌This is the real problem in Catalonia .... Spain is a Fascist State \\nHow long are you going to shut up Europe? https:/…  1461293000001208324\n",
              "15874  RT @viquirepublica: 📌This is the real problem in Catalonia .... Spain is a Fascist State \\nHow long are you going to shut up Europe? https:/…  1461292250927972353\n",
              "16547  RT @viquirepublica: 📌This is the real problem in Catalonia .... Spain is a Fascist State \\nHow long are you going to shut up Europe? https:/…  1461283995266830338\n",
              "18817  RT @viquirepublica: 📌This is the real problem in Catalonia .... Spain is a Fascist State \\nHow long are you going to shut up Europe? https:/…  1461253366483402754\n",
              "18871  RT @viquirepublica: 📌This is the real problem in Catalonia .... Spain is a Fascist State \\nHow long are you going to shut up Europe? https:/…  1461252721122721793\n",
              "18896  RT @viquirepublica: 📌This is the real problem in Catalonia .... Spain is a Fascist State \\nHow long are you going to shut up Europe? https:/…  1461252366175453184\n",
              "18905  RT @viquirepublica: 📌This is the real problem in Catalonia .... Spain is a Fascist State \\nHow long are you going to shut up Europe? https:/…  1461252203105206277\n",
              "23267  RT @bubbaprog: Here is how the Nicki Minaj story was covered on CNC3 Television in Port of Spain, Trinidad. I assure you this is worth all…    1461168528757829633\n",
              "23311  RT @NCTsmtown_127: #Johnny's Photo Diary:Spain\\n\\n#Johntography \\n#NCT #NCT127 #TAEYONG \\n#Spain #Sevilla https://t.co/8CJuEZDXER              1461167495809617921\n",
              "23461  RT @NCTsmtown_127: Amazing time in SPAIN🇪🇸\\nGracias!!\\n\\n#NCT #NCT127 #JAEHYUN\\n#MTVEMA @mtv @mtvema https://t.co/GleI9Lx9wC                   1461162923057827840\n",
              "23465  RT @NCTsmtown_127: #Johnny 's Photo Diary:Spain\\n\\n#Johntography \\n#NCT #NCT127 #JAEHYUN\\n#Spain #Sevilla https://t.co/7kFerMPKyq              1461162702307426312\n",
              "23467  RT @NCTsmtown_127: #Johnny’s Photo Diary:Spain\\n\\n#Johntography \\n#NCT #NCT127 #JAEHYUN\\n#Spain #Sevilla https://t.co/pzRbU9G82o               1461162679809155076\n",
              "23655  RT @NCTsmtown_127: #Johnny’s Photo Diary:Spain\\n\\n#Johntography\\n#NCT #NCT127 #DOYOUNG \\n#Spain #Sevilla https://t.co/XFbjF6fXt2               1461157789397438464\n",
              "23656  RT @NCTsmtown_127: #Johnny’s Photo Diary:Spain\\n\\n#Johntography\\n#NCT #NCT127\\n#JAEHYUN #MARK \\n#Spain #Sevilla https://t.co/jPNpBlVUcJ        1461157780664901633\n",
              "23658  RT @NCTsmtown_127: #Johnny’s Photo Diary:Spain\\n\\n#Johntography \\n#NCT #NCT127 #DOYOUNG \\n#Spain #Sevilla https://t.co/k6s9q2YMw7              1461157760607739909\n",
              "29595  RT @viquirepublica: 📌This is the real problem in Catalonia .... Spain is a Fascist State \\nHow long are you going to shut up Europe? https:/…  1461776690099728385\n",
              "30531  RT @viquirepublica: 📌This is the real problem in Catalonia .... Spain is a Fascist State \\nHow long are you going to shut up Europe? https:/…  1461764692653887496\n",
              "32104  RT @viquirepublica: 📌This is the real problem in Catalonia .... Spain is a Fascist State \\nHow long are you going to shut up Europe? https:/…  1461744173653139459\n",
              "32155  RT @viquirepublica: 📌This is the real problem in Catalonia .... Spain is a Fascist State \\nHow long are you going to shut up Europe? https:/…  1461743601382268936\n",
              "32963  RT @viquirepublica: 📌This is the real problem in Catalonia .... Spain is a Fascist State \\nHow long are you going to shut up Europe? https:/…  1461733446355669006\n",
              "34370  RT @AfricanArchives: African moors, who conquered Spain and ruled it for 700 years, were responsible for bringing Europe out of the dark ag…   1461716582602657792\n",
              "39357  RT @NCTsmtown_127: Spain here we goooooo\\n\\n#NCT #NCT127 #MARK\\n#NCT127inSpain https://t.co/3kuRW5nG1f                                         1461649200882405377\n",
              "40063  RT @NCTsmtown_127: #Johnny 's Photo Diary:Spain\\n\\n#Johntography \\n#NCT #NCT127 #TAEIL \\n#Spain #Sevilla https://t.co/P2eRGildIN               1461639063329550344\n",
              "40431  RT @viquirepublica: 📌This is the real problem in Catalonia .... Spain is a Fascist State \\nHow long are you going to shut up Europe? https:/…  1461634086292840448\n",
              "40612  RT @viquirepublica: 📌This is the real problem in Catalonia .... Spain is a Fascist State \\nHow long are you going to shut up Europe? https:/…  1461631578107482112\n",
              "41506  RT @viquirepublica: 📌This is the real problem in Catalonia .... Spain is a Fascist State \\nHow long are you going to shut up Europe? https:/…  1461619083162664963\n",
              "41830  RT @NCTsmtown_127: #Johnny 's Photo Diary:Spain\\n\\n#Johntography \\n#NCT #NCT127 #DOYOUNG \\n#Spain #Sevilla https://t.co/sC4u82eGYQ             1461614169296306178\n",
              "41844  RT @viquirepublica: 📌This is the real problem in Catalonia .... Spain is a Fascist State \\nHow long are you going to shut up Europe? https:/…  1461613986038919171\n",
              "41908  RT @NCTsmtown_127: #Johnny’s Photo Diary:Spain\\n\\n#Johntography\\n#NCT #NCT127 #DOYOUNG \\n#Spain #Sevilla https://t.co/XFbjF6fXt2               1461613145219239944\n",
              "41984  RT @TheeAzanian: Normalize posting these poor parts of Europe like they do with Africa. Cañada Real (just outside of Madrid), Spain. https:…   1461611790907809795\n",
              "42229  RT @viquirepublica: 📌This is the real problem in Catalonia .... Spain is a Fascist State \\nHow long are you going to shut up Europe? https:/…  1461608131411255297\n",
              "42346  RT @viquirepublica: 📌This is the real problem in Catalonia .... Spain is a Fascist State \\nHow long are you going to shut up Europe? https:/…  1461606317567754240\n",
              "43940  RT @LAPXURADELBUIO: what is happening in spain - a thread:                                                                                     1461577564850319362\n",
              "44456  RT @NCTsmtown_127: #Johnny 's Photo Diary:Spain\\n\\n#Johntography \\n#NCT #NCT127 #JAEHYUN\\n#Spain #Sevilla https://t.co/7kFerMPKyq              1461565440879206401\n",
              "45332  RT @NCTsmtown_127: #Johnny’s Photo Diary:Spain\\n📸 by #DOYOUNG \\n\\n#NCT #NCT127\\n#Spain #Sevilla https://t.co/0Vn0A4EPd4                        1461539163207995397\n",
              "45333  RT @NCTsmtown_127: #Johnny’s Photo Diary:Spain\\n\\n#NCT #NCT127 \\n#Spain #Sevilla https://t.co/2xGKANRyR2                                       1461539133520695297\n",
              "45334  RT @NCTsmtown_127: #Johnny 's Photo Diary:Spain\\n\\n#NCT #NCT127\\n#Spain #Sevilla https://t.co/HDFzIEXW0F                                       1461539103741149186\n",
              "45335  RT @NCTsmtown_127: #Johnny's Photo Diary:Spain\\n\\n#NCT #NCT127\\n#Spain #Sevilla https://t.co/dfeRxHujtd                                        1461539081725251585\n",
              "45336  RT @NCTsmtown_127: #Johnny 's Photo Diary:Spain\\n\\n#NCT #NCT127\\n#Spain #Sevilla https://t.co/UAqpnZa6Wt                                       1461539044974731265\n",
              "45337  RT @NCTsmtown_127: #Johnny 's Photo Diary:Spain\\n\\n#NCT #NCT127\\n#Spain #Sevilla https://t.co/ohGvcNwi3Q                                       1461539030298886147\n",
              "45373  RT @NCTsmtown_127: #Johnny’s Photo Diary:Spain\\n\\n#Johntography\\n#NCT #NCT127 #DOYOUNG \\n#Spain #Sevilla https://t.co/XFbjF6fXt2               1461537918900600843\n",
              "45374  RT @NCTsmtown_127: #Johnny’s Photo Diary:Spain\\n\\n#Johntography \\n#NCT #NCT127\\n#Spain #Sevilla https://t.co/11xjaXYrMh                        1461537902106537991\n",
              "45375  RT @NCTsmtown_127: #Johnny’s Photo Diary:Spain\\n\\n#Johntography \\n#NCT #NCT127 #DOYOUNG \\n#Spain #Sevilla https://t.co/k6s9q2YMw7              1461537878991781892\n",
              "45378  RT @NCTsmtown_127: #Johnny 's Photo Diary:Spain\\n\\n#Johntography \\n#NCT #NCT127 #DOYOUNG \\n#Spain #Sevilla https://t.co/sC4u82eGYQ             1461537845516984321"
            ]
          },
          "metadata": {},
          "execution_count": 61
        }
      ]
    },
    {
      "cell_type": "markdown",
      "metadata": {
        "id": "z7wi90939uOK"
      },
      "source": [
        "### **These conversations are mostly about the october 2019 catalonia protests that occured due to the independence leaders being fired and arrested in spain. The police were very brutal and strict addressing the riots and a lot of clash between the public and authorities took place during those few weeks.**"
      ]
    },
    {
      "cell_type": "code",
      "metadata": {
        "id": "OMcsQ2MivwCA"
      },
      "source": [
        ""
      ],
      "execution_count": null,
      "outputs": []
    },
    {
      "cell_type": "markdown",
      "metadata": {
        "id": "JNFE-VfrvwCA"
      },
      "source": [
        "## Question 5. Find the top 5 amplifiers (15 points)\n",
        "### we consider amplifiers those twitter users who are involved in highly amplified conversations"
      ]
    },
    {
      "cell_type": "code",
      "metadata": {
        "colab": {
          "base_uri": "https://localhost:8080/",
          "height": 224
        },
        "id": "69ESqYbwvwCA",
        "outputId": "ace4ece9-f3a1-46fa-aa29-c423a6a4e3ef"
      },
      "source": [
        "spainEnglishAll.sort_values(by='public_metrics.reply_count', ascending = False)[['tweet.text','public_metrics.reply_count']].head()\n",
        "# high replies means more conversation"
      ],
      "execution_count": 68,
      "outputs": [
        {
          "output_type": "execute_result",
          "data": {
            "text/html": [
              "<div>\n",
              "<style scoped>\n",
              "    .dataframe tbody tr th:only-of-type {\n",
              "        vertical-align: middle;\n",
              "    }\n",
              "\n",
              "    .dataframe tbody tr th {\n",
              "        vertical-align: top;\n",
              "    }\n",
              "\n",
              "    .dataframe thead th {\n",
              "        text-align: right;\n",
              "    }\n",
              "</style>\n",
              "<table border=\"1\" class=\"dataframe\">\n",
              "  <thead>\n",
              "    <tr style=\"text-align: right;\">\n",
              "      <th></th>\n",
              "      <th>tweet.text</th>\n",
              "      <th>public_metrics.reply_count</th>\n",
              "    </tr>\n",
              "  </thead>\n",
              "  <tbody>\n",
              "    <tr>\n",
              "      <th>2434</th>\n",
              "      <td>EURO 2008 top scorer: Villa ⚽️\\nWorld Cup 2010 winner: Spain 🇪🇸\\n\\nEURO 2012 top scorer: Gomez ⚽️\\nWorld Cup 2014 winner: Germany 🇩🇪\\n\\nEURO 2016 top scorer: Griezmann ⚽️\\nWorld Cup 2018 winner: France 🇫🇷\\n\\nEURO 2020 top scorer: Ronaldo ⚽️\\nWorld Cup 2022 winner: 🤔 https://t.co/NkAdzUjOxZ</td>\n",
              "      <td>740</td>\n",
              "    </tr>\n",
              "    <tr>\n",
              "      <th>27778</th>\n",
              "      <td>From Spain: Manchester United are ready to bid €70m for Real Madrid's Federico Valverde, with the club believing his skill-set fits the Premier League perfectly</td>\n",
              "      <td>512</td>\n",
              "    </tr>\n",
              "    <tr>\n",
              "      <th>34485</th>\n",
              "      <td>🚨⚽️ | Fifa have released their new rankings\\n\\n🇧🇪 Belgium \\n🇧🇷 Brazil\\n🇫🇷 France\\n🏴󠁧󠁢󠁥󠁮󠁧󠁿 England\\n🇦🇷 Argentina \\n🇮🇹 Italy\\n🇪🇸 Spain\\n🇵🇹 Portugal\\n🇩🇰 Denmark \\n🇳🇱 Netherlands</td>\n",
              "      <td>215</td>\n",
              "    </tr>\n",
              "    <tr>\n",
              "      <th>32805</th>\n",
              "      <td>\"What if Lionel Messi picked Spain over Argentina😳\" https://t.co/lgHniNyeKW</td>\n",
              "      <td>138</td>\n",
              "    </tr>\n",
              "    <tr>\n",
              "      <th>33984</th>\n",
              "      <td>People who live in mainland Europe - how much do people and/or the media talk about Brexit/UK/the Brits there?\\n\\nIn Spain it’s just not been a topic or a story tbh</td>\n",
              "      <td>125</td>\n",
              "    </tr>\n",
              "  </tbody>\n",
              "</table>\n",
              "</div>"
            ],
            "text/plain": [
              "                                                                                                                                                                                                                                                                                               tweet.text  public_metrics.reply_count\n",
              "2434   EURO 2008 top scorer: Villa ⚽️\\nWorld Cup 2010 winner: Spain 🇪🇸\\n\\nEURO 2012 top scorer: Gomez ⚽️\\nWorld Cup 2014 winner: Germany 🇩🇪\\n\\nEURO 2016 top scorer: Griezmann ⚽️\\nWorld Cup 2018 winner: France 🇫🇷\\n\\nEURO 2020 top scorer: Ronaldo ⚽️\\nWorld Cup 2022 winner: 🤔 https://t.co/NkAdzUjOxZ 740                        \n",
              "27778  From Spain: Manchester United are ready to bid €70m for Real Madrid's Federico Valverde, with the club believing his skill-set fits the Premier League perfectly                                                                                                                                   512                        \n",
              "34485  🚨⚽️ | Fifa have released their new rankings\\n\\n🇧🇪 Belgium \\n🇧🇷 Brazil\\n🇫🇷 France\\n🏴󠁧󠁢󠁥󠁮󠁧󠁿 England\\n🇦🇷 Argentina \\n🇮🇹 Italy\\n🇪🇸 Spain\\n🇵🇹 Portugal\\n🇩🇰 Denmark \\n🇳🇱 Netherlands                                                                                                                     215                        \n",
              "32805  \"What if Lionel Messi picked Spain over Argentina😳\" https://t.co/lgHniNyeKW                                                                                                                                                                                                                        138                        \n",
              "33984  People who live in mainland Europe - how much do people and/or the media talk about Brexit/UK/the Brits there?\\n\\nIn Spain it’s just not been a topic or a story tbh                                                                                                                               125                        "
            ]
          },
          "metadata": {},
          "execution_count": 68
        }
      ]
    },
    {
      "cell_type": "code",
      "metadata": {
        "id": "kiZ2OMobvwCA"
      },
      "source": [
        ""
      ],
      "execution_count": null,
      "outputs": []
    },
    {
      "cell_type": "code",
      "metadata": {
        "id": "i_KzQLLHvwCB"
      },
      "source": [
        ""
      ],
      "execution_count": null,
      "outputs": []
    },
    {
      "cell_type": "markdown",
      "metadata": {
        "id": "8Yg8ncXTvwCB"
      },
      "source": [
        "## Question 6. Extract, from the text colum, information on who created the conversation in the first place (15 points)\n",
        "### Tip: retweeted conversations start with the pattern RT@\n",
        "### For illustration purposes, the text \"RT @20splentyforus: France, like UK should set a national 30km/h or 20mph urban default limit.\" was originally created by @20splentyforus\n",
        "### Tip2. consider applying a regex pattern to the DataFrame using apply method"
      ]
    },
    {
      "cell_type": "code",
      "metadata": {
        "id": "BLP-dc-vvwCB"
      },
      "source": [
        "import re\n",
        "\n",
        "def username_search(tweet):\n",
        "  \n",
        "  pattern = \"@([a-zA-Z0-9_]+)\"\n",
        "  names=re.findall(pattern, tweet)\n",
        "  return names\n",
        "\n"
      ],
      "execution_count": 90,
      "outputs": []
    },
    {
      "cell_type": "code",
      "metadata": {
        "id": "OAb6CZnnvwCB"
      },
      "source": [
        "spainEnglishAll['username'] = spainEnglishAll['tweet.text'].apply(username_search)"
      ],
      "execution_count": 91,
      "outputs": []
    },
    {
      "cell_type": "code",
      "metadata": {
        "colab": {
          "base_uri": "https://localhost:8080/",
          "height": 695
        },
        "id": "-dkk1oZ2vwCB",
        "outputId": "7729ffa9-d814-4228-83a0-cb207d70c9d4"
      },
      "source": [
        "spainEnglishAll.head()"
      ],
      "execution_count": 92,
      "outputs": [
        {
          "output_type": "execute_result",
          "data": {
            "text/html": [
              "<div>\n",
              "<style scoped>\n",
              "    .dataframe tbody tr th:only-of-type {\n",
              "        vertical-align: middle;\n",
              "    }\n",
              "\n",
              "    .dataframe tbody tr th {\n",
              "        vertical-align: top;\n",
              "    }\n",
              "\n",
              "    .dataframe thead th {\n",
              "        text-align: right;\n",
              "    }\n",
              "</style>\n",
              "<table border=\"1\" class=\"dataframe\">\n",
              "  <thead>\n",
              "    <tr style=\"text-align: right;\">\n",
              "      <th></th>\n",
              "      <th>Unnamed: 0</th>\n",
              "      <th>tweeet.id</th>\n",
              "      <th>tweet.text</th>\n",
              "      <th>tweet.created_at</th>\n",
              "      <th>tweet.author_id</th>\n",
              "      <th>tweet.lang</th>\n",
              "      <th>public_metrics.retweet_count</th>\n",
              "      <th>public_metrics.reply_count</th>\n",
              "      <th>public_metrics.like_count</th>\n",
              "      <th>z_score</th>\n",
              "      <th>username</th>\n",
              "    </tr>\n",
              "  </thead>\n",
              "  <tbody>\n",
              "    <tr>\n",
              "      <th>0</th>\n",
              "      <td>0</td>\n",
              "      <td>1461484086892146692</td>\n",
              "      <td>RT @ESPNFC: EURO 2008 top scorer: Villa ⚽️\\nWorld Cup 2010 winner: Spain 🇪🇸\\n\\nEURO 2012 top scorer: Gomez ⚽️\\nWorld Cup 2014 winner: Germany…</td>\n",
              "      <td>2021-11-18 23:58:54+00:00</td>\n",
              "      <td>3239744421</td>\n",
              "      <td>en</td>\n",
              "      <td>1568</td>\n",
              "      <td>0</td>\n",
              "      <td>0</td>\n",
              "      <td>1</td>\n",
              "      <td>[ESPNFC]</td>\n",
              "    </tr>\n",
              "    <tr>\n",
              "      <th>1</th>\n",
              "      <td>1</td>\n",
              "      <td>1461484079245840390</td>\n",
              "      <td>RT @MrGeepGeep: SOE is over and now is the time to Know Your Status! \\nFREE HIV AND STI Rapid testing in Port of Spain tomorrow!!!\\n📍 Locatio…</td>\n",
              "      <td>2021-11-18 23:58:52+00:00</td>\n",
              "      <td>2312771653</td>\n",
              "      <td>en</td>\n",
              "      <td>38</td>\n",
              "      <td>0</td>\n",
              "      <td>0</td>\n",
              "      <td>-0</td>\n",
              "      <td>[MrGeepGeep]</td>\n",
              "    </tr>\n",
              "    <tr>\n",
              "      <th>2</th>\n",
              "      <td>2</td>\n",
              "      <td>1461484043187462149</td>\n",
              "      <td>RT @AnittaCrave: \"Envolver\" — by Anitta will debut on LOS40 radio in Spain and Latin America this Sunday. https://t.co/c8DF1nGtLH</td>\n",
              "      <td>2021-11-18 23:58:43+00:00</td>\n",
              "      <td>1296857652677550080</td>\n",
              "      <td>en</td>\n",
              "      <td>90</td>\n",
              "      <td>0</td>\n",
              "      <td>0</td>\n",
              "      <td>-0</td>\n",
              "      <td>[AnittaCrave]</td>\n",
              "    </tr>\n",
              "    <tr>\n",
              "      <th>3</th>\n",
              "      <td>3</td>\n",
              "      <td>1461483982105763842</td>\n",
              "      <td>Men jewelry  - Madrid, Spain \\n@GuilleRBRB https://t.co/3dqCTpoMKN</td>\n",
              "      <td>2021-11-18 23:58:29+00:00</td>\n",
              "      <td>1071703322166480768</td>\n",
              "      <td>en</td>\n",
              "      <td>0</td>\n",
              "      <td>0</td>\n",
              "      <td>5</td>\n",
              "      <td>-0</td>\n",
              "      <td>[GuilleRBRB]</td>\n",
              "    </tr>\n",
              "    <tr>\n",
              "      <th>4</th>\n",
              "      <td>4</td>\n",
              "      <td>1461483978658127872</td>\n",
              "      <td>RT @Foreign_Cat: #Turkey &amp;amp; #Spain, partners in crimes against human rights &amp;amp; int'l law: \"An alliance of 2 countries where permitting tortur…</td>\n",
              "      <td>2021-11-18 23:58:28+00:00</td>\n",
              "      <td>1142741725225652224</td>\n",
              "      <td>en</td>\n",
              "      <td>34</td>\n",
              "      <td>0</td>\n",
              "      <td>0</td>\n",
              "      <td>-0</td>\n",
              "      <td>[Foreign_Cat]</td>\n",
              "    </tr>\n",
              "  </tbody>\n",
              "</table>\n",
              "</div>"
            ],
            "text/plain": [
              "   Unnamed: 0            tweeet.id  ... z_score       username\n",
              "0  0           1461484086892146692  ... 1        [ESPNFC]     \n",
              "1  1           1461484079245840390  ... -0       [MrGeepGeep] \n",
              "2  2           1461484043187462149  ... -0       [AnittaCrave]\n",
              "3  3           1461483982105763842  ... -0       [GuilleRBRB] \n",
              "4  4           1461483978658127872  ... -0       [Foreign_Cat]\n",
              "\n",
              "[5 rows x 11 columns]"
            ]
          },
          "metadata": {},
          "execution_count": 92
        }
      ]
    },
    {
      "cell_type": "markdown",
      "metadata": {
        "id": "JTOKPWiRvwCB"
      },
      "source": [
        "## Question 7. Please briefly reflect on how would you try to mitigate misinformation on social media (2 paragraphs maximum). (10 points)"
      ]
    },
    {
      "cell_type": "markdown",
      "metadata": {
        "id": "z11ACclZE-zp"
      },
      "source": [
        "The most you can do while facing false infor,ation online is report it and not engage in a discussion. It does not seem much but it is very effective since human reported content is reviewed by another human itself. Sometimes thealgorithm fails to recognize false information and reporting them is a good measure.\n",
        "\n",
        "Reducing engagement is also very eeffective. The way a post reaches people and trends  on social media is when it encounters engangemnet  from various people, whether it be dislikes, negative comments, or etc. It all accounts for a better reach so the best thing to do is not engage or even further start a debate for that purpose."
      ]
    },
    {
      "cell_type": "code",
      "metadata": {
        "id": "7hXMYYBBE-sB"
      },
      "source": [
        ""
      ],
      "execution_count": null,
      "outputs": []
    }
  ]
}